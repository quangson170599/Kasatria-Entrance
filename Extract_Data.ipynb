{
 "cells": [
  {
   "cell_type": "code",
   "execution_count": 4,
   "id": "c1901814",
   "metadata": {},
   "outputs": [
    {
     "name": "stdout",
     "output_type": "stream",
     "text": [
      "Collecting openpyxl\n",
      "  Downloading openpyxl-3.0.10-py2.py3-none-any.whl (242 kB)\n",
      "Collecting et-xmlfile\n",
      "  Using cached et_xmlfile-1.1.0-py3-none-any.whl (4.7 kB)\n",
      "Installing collected packages: et-xmlfile, openpyxl\n",
      "Successfully installed et-xmlfile-1.1.0 openpyxl-3.0.10\n"
     ]
    },
    {
     "name": "stderr",
     "output_type": "stream",
     "text": [
      "WARNING: Ignoring invalid distribution -rotobuf (c:\\users\\quang\\anaconda3\\envs\\tf\\lib\\site-packages)\n",
      "WARNING: Ignoring invalid distribution -rotobuf (c:\\users\\quang\\anaconda3\\envs\\tf\\lib\\site-packages)\n",
      "WARNING: Ignoring invalid distribution -rotobuf (c:\\users\\quang\\anaconda3\\envs\\tf\\lib\\site-packages)\n",
      "WARNING: Ignoring invalid distribution -rotobuf (c:\\users\\quang\\anaconda3\\envs\\tf\\lib\\site-packages)\n",
      "WARNING: Ignoring invalid distribution -rotobuf (c:\\users\\quang\\anaconda3\\envs\\tf\\lib\\site-packages)\n",
      "WARNING: Ignoring invalid distribution -rotobuf (c:\\users\\quang\\anaconda3\\envs\\tf\\lib\\site-packages)\n",
      "WARNING: Ignoring invalid distribution -rotobuf (c:\\users\\quang\\anaconda3\\envs\\tf\\lib\\site-packages)\n",
      "WARNING: Ignoring invalid distribution -rotobuf (c:\\users\\quang\\anaconda3\\envs\\tf\\lib\\site-packages)\n"
     ]
    }
   ],
   "source": [
    "!pip install openpyxl"
   ]
  },
  {
   "cell_type": "code",
   "execution_count": 6,
   "id": "2a8c52ae",
   "metadata": {},
   "outputs": [
    {
     "data": {
      "text/html": [
       "<div>\n",
       "<style scoped>\n",
       "    .dataframe tbody tr th:only-of-type {\n",
       "        vertical-align: middle;\n",
       "    }\n",
       "\n",
       "    .dataframe tbody tr th {\n",
       "        vertical-align: top;\n",
       "    }\n",
       "\n",
       "    .dataframe thead th {\n",
       "        text-align: right;\n",
       "    }\n",
       "</style>\n",
       "<table border=\"1\" class=\"dataframe\">\n",
       "  <thead>\n",
       "    <tr style=\"text-align: right;\">\n",
       "      <th></th>\n",
       "      <th>Region</th>\n",
       "      <th>Countries</th>\n",
       "    </tr>\n",
       "  </thead>\n",
       "  <tbody>\n",
       "    <tr>\n",
       "      <th>0</th>\n",
       "      <td>Asia</td>\n",
       "      <td>China; Mongolia; Uzbekistan; Laos; Maldives; T...</td>\n",
       "    </tr>\n",
       "    <tr>\n",
       "      <th>1</th>\n",
       "      <td>Australia and Oceania</td>\n",
       "      <td>Tonga; Kiribati; Solomon Islands; Palau; New Z...</td>\n",
       "    </tr>\n",
       "    <tr>\n",
       "      <th>2</th>\n",
       "      <td>Central America and the Caribbean</td>\n",
       "      <td>Haiti; Dominica; Guatemala; The Bahamas; Grena...</td>\n",
       "    </tr>\n",
       "    <tr>\n",
       "      <th>3</th>\n",
       "      <td>Europe</td>\n",
       "      <td>Sweden; Kosovo; Iceland; France; Latvia; Russi...</td>\n",
       "    </tr>\n",
       "    <tr>\n",
       "      <th>4</th>\n",
       "      <td>Middle East and North Africa</td>\n",
       "      <td>Oman; Morocco; Iraq; Egypt; Algeria; Saudi Ara...</td>\n",
       "    </tr>\n",
       "  </tbody>\n",
       "</table>\n",
       "</div>"
      ],
      "text/plain": [
       "                              Region  \\\n",
       "0                               Asia   \n",
       "1              Australia and Oceania   \n",
       "2  Central America and the Caribbean   \n",
       "3                             Europe   \n",
       "4       Middle East and North Africa   \n",
       "\n",
       "                                           Countries  \n",
       "0  China; Mongolia; Uzbekistan; Laos; Maldives; T...  \n",
       "1  Tonga; Kiribati; Solomon Islands; Palau; New Z...  \n",
       "2  Haiti; Dominica; Guatemala; The Bahamas; Grena...  \n",
       "3  Sweden; Kosovo; Iceland; France; Latvia; Russi...  \n",
       "4  Oman; Morocco; Iraq; Egypt; Algeria; Saudi Ara...  "
      ]
     },
     "execution_count": 6,
     "metadata": {},
     "output_type": "execute_result"
    }
   ],
   "source": [
    "import pandas as pd\n",
    " \n",
    "# read by default 1st sheet of an excel file\n",
    "df = pd.read_excel('Regions.xlsx')\n",
    "df.head()"
   ]
  },
  {
   "cell_type": "code",
   "execution_count": 27,
   "id": "8a1d6e21",
   "metadata": {},
   "outputs": [],
   "source": [
    "df['Country'] = df.Countries.str.split(pat='; ')"
   ]
  },
  {
   "cell_type": "code",
   "execution_count": 30,
   "id": "7ac693fa",
   "metadata": {},
   "outputs": [],
   "source": [
    "Orders2 = df.explode('Country')"
   ]
  },
  {
   "cell_type": "code",
   "execution_count": 31,
   "id": "93c8bee5",
   "metadata": {},
   "outputs": [
    {
     "data": {
      "text/html": [
       "<div>\n",
       "<style scoped>\n",
       "    .dataframe tbody tr th:only-of-type {\n",
       "        vertical-align: middle;\n",
       "    }\n",
       "\n",
       "    .dataframe tbody tr th {\n",
       "        vertical-align: top;\n",
       "    }\n",
       "\n",
       "    .dataframe thead th {\n",
       "        text-align: right;\n",
       "    }\n",
       "</style>\n",
       "<table border=\"1\" class=\"dataframe\">\n",
       "  <thead>\n",
       "    <tr style=\"text-align: right;\">\n",
       "      <th></th>\n",
       "      <th>Region</th>\n",
       "      <th>Countries</th>\n",
       "      <th>Country</th>\n",
       "    </tr>\n",
       "  </thead>\n",
       "  <tbody>\n",
       "    <tr>\n",
       "      <th>0</th>\n",
       "      <td>Asia</td>\n",
       "      <td>China; Mongolia; Uzbekistan; Laos; Maldives; T...</td>\n",
       "      <td>China</td>\n",
       "    </tr>\n",
       "    <tr>\n",
       "      <th>0</th>\n",
       "      <td>Asia</td>\n",
       "      <td>China; Mongolia; Uzbekistan; Laos; Maldives; T...</td>\n",
       "      <td>Mongolia</td>\n",
       "    </tr>\n",
       "    <tr>\n",
       "      <th>0</th>\n",
       "      <td>Asia</td>\n",
       "      <td>China; Mongolia; Uzbekistan; Laos; Maldives; T...</td>\n",
       "      <td>Uzbekistan</td>\n",
       "    </tr>\n",
       "    <tr>\n",
       "      <th>0</th>\n",
       "      <td>Asia</td>\n",
       "      <td>China; Mongolia; Uzbekistan; Laos; Maldives; T...</td>\n",
       "      <td>Laos</td>\n",
       "    </tr>\n",
       "    <tr>\n",
       "      <th>0</th>\n",
       "      <td>Asia</td>\n",
       "      <td>China; Mongolia; Uzbekistan; Laos; Maldives; T...</td>\n",
       "      <td>Maldives</td>\n",
       "    </tr>\n",
       "    <tr>\n",
       "      <th>...</th>\n",
       "      <td>...</td>\n",
       "      <td>...</td>\n",
       "      <td>...</td>\n",
       "    </tr>\n",
       "    <tr>\n",
       "      <th>6</th>\n",
       "      <td>Sub-Saharan Africa</td>\n",
       "      <td>Central African Republic; Equatorial Guinea; S...</td>\n",
       "      <td>Lesotho</td>\n",
       "    </tr>\n",
       "    <tr>\n",
       "      <th>6</th>\n",
       "      <td>Sub-Saharan Africa</td>\n",
       "      <td>Central African Republic; Equatorial Guinea; S...</td>\n",
       "      <td>Mali</td>\n",
       "    </tr>\n",
       "    <tr>\n",
       "      <th>6</th>\n",
       "      <td>Sub-Saharan Africa</td>\n",
       "      <td>Central African Republic; Equatorial Guinea; S...</td>\n",
       "      <td>Mauritania</td>\n",
       "    </tr>\n",
       "    <tr>\n",
       "      <th>6</th>\n",
       "      <td>Sub-Saharan Africa</td>\n",
       "      <td>Central African Republic; Equatorial Guinea; S...</td>\n",
       "      <td>Sudan</td>\n",
       "    </tr>\n",
       "    <tr>\n",
       "      <th>6</th>\n",
       "      <td>Sub-Saharan Africa</td>\n",
       "      <td>Central African Republic; Equatorial Guinea; S...</td>\n",
       "      <td>Sierra Leone</td>\n",
       "    </tr>\n",
       "  </tbody>\n",
       "</table>\n",
       "<p>185 rows × 3 columns</p>\n",
       "</div>"
      ],
      "text/plain": [
       "                Region                                          Countries  \\\n",
       "0                 Asia  China; Mongolia; Uzbekistan; Laos; Maldives; T...   \n",
       "0                 Asia  China; Mongolia; Uzbekistan; Laos; Maldives; T...   \n",
       "0                 Asia  China; Mongolia; Uzbekistan; Laos; Maldives; T...   \n",
       "0                 Asia  China; Mongolia; Uzbekistan; Laos; Maldives; T...   \n",
       "0                 Asia  China; Mongolia; Uzbekistan; Laos; Maldives; T...   \n",
       "..                 ...                                                ...   \n",
       "6   Sub-Saharan Africa  Central African Republic; Equatorial Guinea; S...   \n",
       "6   Sub-Saharan Africa  Central African Republic; Equatorial Guinea; S...   \n",
       "6   Sub-Saharan Africa  Central African Republic; Equatorial Guinea; S...   \n",
       "6   Sub-Saharan Africa  Central African Republic; Equatorial Guinea; S...   \n",
       "6   Sub-Saharan Africa  Central African Republic; Equatorial Guinea; S...   \n",
       "\n",
       "         Country  \n",
       "0          China  \n",
       "0       Mongolia  \n",
       "0     Uzbekistan  \n",
       "0           Laos  \n",
       "0       Maldives  \n",
       "..           ...  \n",
       "6        Lesotho  \n",
       "6           Mali  \n",
       "6     Mauritania  \n",
       "6          Sudan  \n",
       "6   Sierra Leone  \n",
       "\n",
       "[185 rows x 3 columns]"
      ]
     },
     "execution_count": 31,
     "metadata": {},
     "output_type": "execute_result"
    }
   ],
   "source": [
    "Orders2"
   ]
  },
  {
   "cell_type": "code",
   "execution_count": 33,
   "id": "632e837e",
   "metadata": {},
   "outputs": [],
   "source": [
    "Orders2.to_excel(r'C:\\Users\\quang\\Desktop\\DA\\CV\\kasatria\\export_dataframe.xlsx',index=False, header=True)"
   ]
  }
 ],
 "metadata": {
  "kernelspec": {
   "display_name": "Python 3 (ipykernel)",
   "language": "python",
   "name": "python3"
  },
  "language_info": {
   "codemirror_mode": {
    "name": "ipython",
    "version": 3
   },
   "file_extension": ".py",
   "mimetype": "text/x-python",
   "name": "python",
   "nbconvert_exporter": "python",
   "pygments_lexer": "ipython3",
   "version": "3.9.12"
  }
 },
 "nbformat": 4,
 "nbformat_minor": 5
}
